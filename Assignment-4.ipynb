{
 "cells": [
  {
   "cell_type": "code",
   "execution_count": 3,
   "metadata": {},
   "outputs": [
    {
     "name": "stdout",
     "output_type": "stream",
     "text": [
      "a=35\n",
      "b=45\n",
      "c=23\n",
      "area of triangle is  396.7570887835528\n"
     ]
    }
   ],
   "source": [
    "##1.1 Write a Python Program(with class concepts) to find the area of the triangle using the below formula.\n",
    "##area = (s*(s-a)*(s-b)*(s-c)) ** 0.5\n",
    "##Function to take the length of the sides of triangle from user should be defined in the parent class and function to calculate the area should be defined in subclass.\n",
    "\n",
    "class sides:\n",
    "    def __init__(self,a,b,c):\n",
    "            self.a = float(a)\n",
    "            self.b = float(b)\n",
    "            self.c = float(c)\n",
    "a= int(input(\"a=\"))\n",
    "b= int(input(\"b=\"))\n",
    "c= int(input(\"c=\"))\n",
    "        \n",
    "class triangle(sides):\n",
    "    def area(self):\n",
    "        s=(self.a+self.b+self.c)*0.5\n",
    "        return float((s * (s - self.a) * (s - self.b) * (s - self.c))) ** 0.5\n",
    "\n",
    "t=triangle(a,b,c)\n",
    "print('area of triangle is ', t.area())"
   ]
  },
  {
   "cell_type": "code",
   "execution_count": 24,
   "metadata": {},
   "outputs": [
    {
     "name": "stdout",
     "output_type": "stream",
     "text": [
      "Enter words:Raghav, rineeth, supernatural\n",
      "Enter Min Length:6\n",
      "Words with at least min length: [' rineeth', ' supernatural']\n"
     ]
    }
   ],
   "source": [
    "##1.2 Write a function filter_long_words() that takes a list of words and an integer n and returns the list of words that are longer than n.\n",
    "def filter_long_words(t,a):\n",
    "    words=[]\n",
    "    for i in t:\n",
    "        if(len(i)>a):\n",
    "            words.append(i)\n",
    "    return words\n",
    "\n",
    "n=input(\"Enter words:\")\n",
    "nt=n.split(\",\")\n",
    "low=input(\"Enter Min Length:\")\n",
    "long=filter_long_words(nt,int(low))\n",
    "\n",
    "print(\"Words with at least min length:\",long)"
   ]
  },
  {
   "cell_type": "code",
   "execution_count": 22,
   "metadata": {},
   "outputs": [
    {
     "name": "stdout",
     "output_type": "stream",
     "text": [
      "[2, 3, 4]\n",
      "<map object at 0x105abdbd0>\n",
      "[2, 3, 4]\n"
     ]
    }
   ],
   "source": [
    "##Write a Python program using function concept that maps list of words into a list of integers representing the lengths of the corresponding words.\n",
    "def map_Words_to_Length(List):\n",
    "    return list(map(len, List))\n",
    "\n",
    "words=input(\"Please enter Words : \")\n",
    "word_list=words.split(\",\")\n",
    "Words_lengths=map_Words_to_Length(word_list)\n",
    "print(\"Length of Words are :\",Words_lengths )"
   ]
  },
  {
   "cell_type": "code",
   "execution_count": 11,
   "metadata": {},
   "outputs": [
    {
     "name": "stdout",
     "output_type": "stream",
     "text": [
      "Please enter char : s\n",
      "False\n"
     ]
    }
   ],
   "source": [
    "#Write a Python function which takes a character (i.e. a string of length 1) and returns True if it is a vowel, False otherwise.\n",
    "\n",
    "\n",
    "def is_vowel(char):\n",
    "    vowels = ('a', 'e', 'i', 'o', 'u')\n",
    "    if char not in vowels:\n",
    "        return False\n",
    "    return True\n",
    "char=input(\"Please enter char : \")\n",
    "print(is_vowel(char) )"
   ]
  },
  {
   "cell_type": "code",
   "execution_count": null,
   "metadata": {},
   "outputs": [],
   "source": []
  }
 ],
 "metadata": {
  "kernelspec": {
   "display_name": "Python 3",
   "language": "python",
   "name": "python3"
  },
  "language_info": {
   "codemirror_mode": {
    "name": "ipython",
    "version": 3
   },
   "file_extension": ".py",
   "mimetype": "text/x-python",
   "name": "python",
   "nbconvert_exporter": "python",
   "pygments_lexer": "ipython3",
   "version": "3.7.4"
  }
 },
 "nbformat": 4,
 "nbformat_minor": 2
}
